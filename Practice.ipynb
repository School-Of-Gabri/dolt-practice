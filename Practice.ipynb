{
 "cells": [
  {
   "cell_type": "code",
   "execution_count": null,
   "id": "d2e4d30a-8e8f-4a5b-b8a1-15fdf114d7fc",
   "metadata": {},
   "outputs": [],
   "source": [
    "!pip list | grep -i 'sql'"
   ]
  },
  {
   "cell_type": "code",
   "execution_count": null,
   "id": "fdb96cd3-24d9-44ab-a1f8-d0c4062a7139",
   "metadata": {},
   "outputs": [],
   "source": [
    "import mysql.connector as SQLC"
   ]
  },
  {
   "cell_type": "code",
   "execution_count": null,
   "id": "356d784a-7281-4c00-8eb4-882368c09013",
   "metadata": {},
   "outputs": [],
   "source": [
    "DataBase = SQLC.connect(\n",
    "    host=\"172.17.64.1\",\n",
    "    user=\"root\",\n",
    "    password=\"root\"\n",
    ")\n",
    "Cursor = DataBase.cursor()\n",
    "\n",
    "Cursor.execute(\"SHOW DATABASES\")\n",
    "\n",
    "print('Results for: \"SHOW DATABASES;\"')\n",
    "for (db_name,) in Cursor:\n",
    "   print(f'  - {db_name}')"
   ]
  },
  {
   "cell_type": "code",
   "execution_count": null,
   "id": "7f47642b-5730-4060-bf37-f73a8a1588c6",
   "metadata": {},
   "outputs": [],
   "source": [
    "# Connect to Dolt SQL-Server\n",
    "DataBase = SQLC.connect(\n",
    "    host=\"172.17.64.1\",\n",
    "    user=\"root\",\n",
    "    password=\"root\",\n",
    "    database='a_dolt_ery'\n",
    ")\n",
    "Cursor = DataBase.cursor(buffered=True)"
   ]
  },
  {
   "cell_type": "code",
   "execution_count": null,
   "id": "dbff02f7-4f3f-4a3c-9d24-9b4d7c3dfe4d",
   "metadata": {},
   "outputs": [],
   "source": [
    "# Dump tables\n",
    "Cursor.execute(\"SHOW TABLES\")\n",
    "print('Results for: \"SHOW TABLES;\"')\n",
    "for (table_name,) in Cursor:\n",
    "   print(f'  - {table_name}')"
   ]
  },
  {
   "cell_type": "code",
   "execution_count": null,
   "id": "4fe62690-0132-442d-8cc9-b17308b0a7b2",
   "metadata": {},
   "outputs": [],
   "source": [
    "# Dump tables\n",
    "Cursor.execute(\"SELECT * FROM employees\")\n",
    "print('Results for: \"SELECT * FROM employees;\"')\n",
    "for (emp_id, emp_lname, emp_fname) in Cursor:\n",
    "   print(f'  - {emp_fname} {emp_lname} ({emp_id})')"
   ]
  },
  {
   "cell_type": "code",
   "execution_count": null,
   "id": "fc8d681e-6372-418e-9fef-d6c438f0368c",
   "metadata": {},
   "outputs": [],
   "source": [
    "# Create table \"teams\":\n",
    "Cursor.execute(\"create table if not exists teams(id int, team_name varchar(255), primary key(id));\")\n",
    "print(\"teams table is created\")\n",
    "\n",
    "# Create table \"employees\":\n",
    "Cursor.execute(\"create table if not exists employees(id int, last_name varchar(255), first_name varchar(255), primary key(id));\")\n",
    "print(\"employees table is created\")\n",
    "\n",
    "# Create table \"employees_teams\":\n",
    "Cursor.execute(\"create table if not exists employees_teams(team_id int, employee_id int, primary key(team_id, employee_id), foreign key (team_id) references teams(id), foreign key (employee_id) references employees(id));\")\n",
    "print(\"employees_teams table is created\")\n",
    "\n",
    "DataBase.commit()"
   ]
  },
  {
   "cell_type": "code",
   "execution_count": null,
   "id": "dff40512-d94b-4048-a586-35e7aa6615ec",
   "metadata": {},
   "outputs": [],
   "source": [
    "# Dump tables again\n",
    "Cursor.execute(\"SHOW TABLES\")\n",
    "print('Results for: \"SHOW TABLES;\"')\n",
    "for (table_name,) in Cursor:\n",
    "   print(f'  - {table_name}')"
   ]
  },
  {
   "cell_type": "code",
   "execution_count": null,
   "id": "79619b39-2e3f-4563-9907-a7e2be2ef459",
   "metadata": {},
   "outputs": [],
   "source": [
    "# Dolt add (Stage changes):\n",
    "Cursor.execute(\"call dolt_add('teams', 'employees', 'employees_teams');\")\n",
    "print(\"Changes staged\")\n",
    "\n",
    "# Dolt commit (Write changes):\n",
    "Cursor.execute(\"call dolt_commit('-m', 'Created initial schema');\")\n",
    "print(\"Changes commited\")\n"
   ]
  }
 ],
 "metadata": {
  "kernelspec": {
   "display_name": "Python 3 (ipykernel)",
   "language": "python",
   "name": "python3"
  },
  "language_info": {
   "codemirror_mode": {
    "name": "ipython",
    "version": 3
   },
   "file_extension": ".py",
   "mimetype": "text/x-python",
   "name": "python",
   "nbconvert_exporter": "python",
   "pygments_lexer": "ipython3",
   "version": "3.10.5"
  }
 },
 "nbformat": 4,
 "nbformat_minor": 5
}
